{
  "nbformat": 4,
  "nbformat_minor": 0,
  "metadata": {
    "colab": {
      "provenance": [],
      "collapsed_sections": [
        "2srjHZF-G7q7"
      ]
    },
    "kernelspec": {
      "name": "python3",
      "display_name": "Python 3"
    },
    "language_info": {
      "name": "python"
    }
  },
  "cells": [
    {
      "cell_type": "code",
      "metadata": {
        "id": "cnXVA1XAGr-6"
      },
      "source": [],
      "execution_count": null,
      "outputs": []
    },
    {
      "cell_type": "markdown",
      "metadata": {
        "id": "2srjHZF-G7q7"
      },
      "source": [
        "# Data Import, Visualization, and Troubleshooting with Python\n",
        "<a target=\"_blank\" href=\"https://colab.research.google.com/github/nattycep/Geosensing_2024/blob/main/DataVis_Python_2024.ipynb\">\n",
        "  <img src=\"https://colab.research.google.com/assets/colab-badge.svg\" alt=\"Open In Colab\"/>\n",
        "</a>\n",
        "\n",
        "**Expected study time :** 45 min (depending on your background)\n",
        "\n",
        "**Learning outcomes :**\n",
        "\n",
        "*Adapt an existing Python script in google colab in order to:*\n",
        "- Load data from your geosensor\n",
        "- Import data into Python\n",
        "- Visualize the data\n",
        "- Refine and export figures for presentation\n",
        "- Perform basic statistics to support a scientific finding\n",
        "\n",
        "**External References**\n",
        "- the Scipy.stat module https://docs.scipy.org/doc/scipy/reference/stats.html\n",
        "- Matplotlib cheat sheet https://github.com/matplotlib/cheatsheets\n",
        "- Book : https://wesmckinney.com/book/plotting-and-visualization\n",
        "\n",
        "\n"
      ]
    },
    {
      "cell_type": "markdown",
      "metadata": {
        "id": "-i74aQwVJUX0"
      },
      "source": [
        "# 1.   Load Packages\n",
        "\n",
        "First step is to import Python libraries to analyse and visualise data. We will use\n",
        "\n",
        "*   NumPy - mathematical functions, random number generators, linear algebra routines, Fourier transforms, and more\n",
        "*   MatPlotLib - comprehensive library for creating static, animated, and interactive visualizations in Python\n",
        "*   Pandas - fast, powerful, flexible and easy to use open source data analysis and manipulation tool\n",
        "*   Scipy - algorithms for optimization, integration, interpolation, eigenvalue problems, algebraic equations, differential equations, statistics and many other classes of problems\n",
        "*   Seaborn is a Python data visualization library based on matplotlib. It provides a high-level interface for drawing attractive and informative statistical graphics\n",
        "\n",
        "\n"
      ]
    },
    {
      "cell_type": "code",
      "metadata": {
        "id": "WgzZ8IVHJG8s"
      },
      "source": [
        "import numpy as np\n",
        "import matplotlib.pyplot as plt\n",
        "import pandas as pd\n",
        "import scipy.stats as stats\n",
        "import seaborn as sns\n",
        "\n"
      ],
      "execution_count": 25,
      "outputs": []
    },
    {
      "cell_type": "markdown",
      "metadata": {
        "id": "C0TPuMO-Jb2E"
      },
      "source": [
        "# 2.   Load Data\n",
        "\n",
        "\n",
        "Make sure that your data makes sense.\n",
        "Check that the dates imported correctly.\n",
        "Look at the header and variable names.\n",
        "\n",
        "If you import from github, make sure that you are using the \"raw\" prefix after the https://   ...\n",
        "On google Colab, you also can upload local files.  To do that, click on the \"file\" icon on the left side and then the file with an arrow on it.\n",
        "\n",
        "Look at the header to make sure you data lines up correctly.   \n",
        "\n",
        "\n"
      ]
    },
    {
      "cell_type": "code",
      "metadata": {
        "id": "agXw597RJbiA",
        "outputId": "ad7ab791-b372-4c3c-8c54-ccbfaee9bd84",
        "colab": {
          "base_uri": "https://localhost:8080/",
          "height": 204
        }
      },
      "source": [
        "#temp = pd.read_csv('https://raw.githubusercontent.com/nattycep/FIL_Geosensing/main/temp.csv')\n",
        "temp = pd.read_csv('https://raw.githubusercontent.com/nattycep/Geosensing_2024/main/testdata.csv',header=0)\n",
        "\n",
        "#pandas.read_csv(filepath_or_buffer, *, sep=_NoDefault.no_default, delimiter=None, header='infer', names=_NoDefault.no_default, index_col=None, usecols=None, dtype=None, engine=None, converters=None, true_values=None, false_values=None, skipinitialspace=False, skiprows=None, skipfooter=0, nrows=None, na_values=None, keep_default_na=True, na_filter=True, verbose=_NoDefault.no_default, skip_blank_lines=True, parse_dates=None, infer_datetime_format=_NoDefault.no_default, keep_date_col=_NoDefault.no_default, date_parser=_NoDefault.no_default, date_format=None, dayfirst=False, cache_dates=True, iterator=False, chunksize=None, compression='infer', thousands=None, decimal='.', lineterminator=None, quotechar='\"', quoting=0, doublequote=True, escapechar=None, comment=None, encoding=None, encoding_errors='strict', dialect=None, on_bad_lines='error', delim_whitespace=_NoDefault.no_default, low_memory=True, memory_map=False, float_precision=None, storage_options=None, dtype_backend=_NoDefault.no_default)[source]\n",
        "\n",
        "\n",
        "temp.head()\n",
        "\n",
        "# in this data file -> each component of date was its own column, so it imported as an interger.  We need to convert it to date."
      ],
      "execution_count": 38,
      "outputs": [
        {
          "output_type": "execute_result",
          "data": {
            "text/plain": [
              "   n   year   month   day   hour   minute   second   voltage   current  \\\n",
              "0  1   2024       3    13     14        2       51      4.07      30.0   \n",
              "1  2   2024       3    13     14        3        1      4.08      -3.0   \n",
              "2  3   2024       3    13     14        3       11      4.08      -4.0   \n",
              "3  4   2024       3    13     14        3       21      4.08      -9.0   \n",
              "4  5   2024       3    13     14        3       31      4.08      -5.0   \n",
              "\n",
              "    power   temperature   humidity  \n",
              "0   140.0         20.41      46.83  \n",
              "1     0.0         19.81      47.08  \n",
              "2    40.0         19.31      48.48  \n",
              "3    40.0         18.88      49.44  \n",
              "4    40.0         18.54      50.24  "
            ],
            "text/html": [
              "\n",
              "  <div id=\"df-436f8aae-2498-43c5-a1ad-bd20d1890ede\" class=\"colab-df-container\">\n",
              "    <div>\n",
              "<style scoped>\n",
              "    .dataframe tbody tr th:only-of-type {\n",
              "        vertical-align: middle;\n",
              "    }\n",
              "\n",
              "    .dataframe tbody tr th {\n",
              "        vertical-align: top;\n",
              "    }\n",
              "\n",
              "    .dataframe thead th {\n",
              "        text-align: right;\n",
              "    }\n",
              "</style>\n",
              "<table border=\"1\" class=\"dataframe\">\n",
              "  <thead>\n",
              "    <tr style=\"text-align: right;\">\n",
              "      <th></th>\n",
              "      <th>n</th>\n",
              "      <th>year</th>\n",
              "      <th>month</th>\n",
              "      <th>day</th>\n",
              "      <th>hour</th>\n",
              "      <th>minute</th>\n",
              "      <th>second</th>\n",
              "      <th>voltage</th>\n",
              "      <th>current</th>\n",
              "      <th>power</th>\n",
              "      <th>temperature</th>\n",
              "      <th>humidity</th>\n",
              "    </tr>\n",
              "  </thead>\n",
              "  <tbody>\n",
              "    <tr>\n",
              "      <th>0</th>\n",
              "      <td>1</td>\n",
              "      <td>2024</td>\n",
              "      <td>3</td>\n",
              "      <td>13</td>\n",
              "      <td>14</td>\n",
              "      <td>2</td>\n",
              "      <td>51</td>\n",
              "      <td>4.07</td>\n",
              "      <td>30.0</td>\n",
              "      <td>140.0</td>\n",
              "      <td>20.41</td>\n",
              "      <td>46.83</td>\n",
              "    </tr>\n",
              "    <tr>\n",
              "      <th>1</th>\n",
              "      <td>2</td>\n",
              "      <td>2024</td>\n",
              "      <td>3</td>\n",
              "      <td>13</td>\n",
              "      <td>14</td>\n",
              "      <td>3</td>\n",
              "      <td>1</td>\n",
              "      <td>4.08</td>\n",
              "      <td>-3.0</td>\n",
              "      <td>0.0</td>\n",
              "      <td>19.81</td>\n",
              "      <td>47.08</td>\n",
              "    </tr>\n",
              "    <tr>\n",
              "      <th>2</th>\n",
              "      <td>3</td>\n",
              "      <td>2024</td>\n",
              "      <td>3</td>\n",
              "      <td>13</td>\n",
              "      <td>14</td>\n",
              "      <td>3</td>\n",
              "      <td>11</td>\n",
              "      <td>4.08</td>\n",
              "      <td>-4.0</td>\n",
              "      <td>40.0</td>\n",
              "      <td>19.31</td>\n",
              "      <td>48.48</td>\n",
              "    </tr>\n",
              "    <tr>\n",
              "      <th>3</th>\n",
              "      <td>4</td>\n",
              "      <td>2024</td>\n",
              "      <td>3</td>\n",
              "      <td>13</td>\n",
              "      <td>14</td>\n",
              "      <td>3</td>\n",
              "      <td>21</td>\n",
              "      <td>4.08</td>\n",
              "      <td>-9.0</td>\n",
              "      <td>40.0</td>\n",
              "      <td>18.88</td>\n",
              "      <td>49.44</td>\n",
              "    </tr>\n",
              "    <tr>\n",
              "      <th>4</th>\n",
              "      <td>5</td>\n",
              "      <td>2024</td>\n",
              "      <td>3</td>\n",
              "      <td>13</td>\n",
              "      <td>14</td>\n",
              "      <td>3</td>\n",
              "      <td>31</td>\n",
              "      <td>4.08</td>\n",
              "      <td>-5.0</td>\n",
              "      <td>40.0</td>\n",
              "      <td>18.54</td>\n",
              "      <td>50.24</td>\n",
              "    </tr>\n",
              "  </tbody>\n",
              "</table>\n",
              "</div>\n",
              "    <div class=\"colab-df-buttons\">\n",
              "\n",
              "  <div class=\"colab-df-container\">\n",
              "    <button class=\"colab-df-convert\" onclick=\"convertToInteractive('df-436f8aae-2498-43c5-a1ad-bd20d1890ede')\"\n",
              "            title=\"Convert this dataframe to an interactive table.\"\n",
              "            style=\"display:none;\">\n",
              "\n",
              "  <svg xmlns=\"http://www.w3.org/2000/svg\" height=\"24px\" viewBox=\"0 -960 960 960\">\n",
              "    <path d=\"M120-120v-720h720v720H120Zm60-500h600v-160H180v160Zm220 220h160v-160H400v160Zm0 220h160v-160H400v160ZM180-400h160v-160H180v160Zm440 0h160v-160H620v160ZM180-180h160v-160H180v160Zm440 0h160v-160H620v160Z\"/>\n",
              "  </svg>\n",
              "    </button>\n",
              "\n",
              "  <style>\n",
              "    .colab-df-container {\n",
              "      display:flex;\n",
              "      gap: 12px;\n",
              "    }\n",
              "\n",
              "    .colab-df-convert {\n",
              "      background-color: #E8F0FE;\n",
              "      border: none;\n",
              "      border-radius: 50%;\n",
              "      cursor: pointer;\n",
              "      display: none;\n",
              "      fill: #1967D2;\n",
              "      height: 32px;\n",
              "      padding: 0 0 0 0;\n",
              "      width: 32px;\n",
              "    }\n",
              "\n",
              "    .colab-df-convert:hover {\n",
              "      background-color: #E2EBFA;\n",
              "      box-shadow: 0px 1px 2px rgba(60, 64, 67, 0.3), 0px 1px 3px 1px rgba(60, 64, 67, 0.15);\n",
              "      fill: #174EA6;\n",
              "    }\n",
              "\n",
              "    .colab-df-buttons div {\n",
              "      margin-bottom: 4px;\n",
              "    }\n",
              "\n",
              "    [theme=dark] .colab-df-convert {\n",
              "      background-color: #3B4455;\n",
              "      fill: #D2E3FC;\n",
              "    }\n",
              "\n",
              "    [theme=dark] .colab-df-convert:hover {\n",
              "      background-color: #434B5C;\n",
              "      box-shadow: 0px 1px 3px 1px rgba(0, 0, 0, 0.15);\n",
              "      filter: drop-shadow(0px 1px 2px rgba(0, 0, 0, 0.3));\n",
              "      fill: #FFFFFF;\n",
              "    }\n",
              "  </style>\n",
              "\n",
              "    <script>\n",
              "      const buttonEl =\n",
              "        document.querySelector('#df-436f8aae-2498-43c5-a1ad-bd20d1890ede button.colab-df-convert');\n",
              "      buttonEl.style.display =\n",
              "        google.colab.kernel.accessAllowed ? 'block' : 'none';\n",
              "\n",
              "      async function convertToInteractive(key) {\n",
              "        const element = document.querySelector('#df-436f8aae-2498-43c5-a1ad-bd20d1890ede');\n",
              "        const dataTable =\n",
              "          await google.colab.kernel.invokeFunction('convertToInteractive',\n",
              "                                                    [key], {});\n",
              "        if (!dataTable) return;\n",
              "\n",
              "        const docLinkHtml = 'Like what you see? Visit the ' +\n",
              "          '<a target=\"_blank\" href=https://colab.research.google.com/notebooks/data_table.ipynb>data table notebook</a>'\n",
              "          + ' to learn more about interactive tables.';\n",
              "        element.innerHTML = '';\n",
              "        dataTable['output_type'] = 'display_data';\n",
              "        await google.colab.output.renderOutput(dataTable, element);\n",
              "        const docLink = document.createElement('div');\n",
              "        docLink.innerHTML = docLinkHtml;\n",
              "        element.appendChild(docLink);\n",
              "      }\n",
              "    </script>\n",
              "  </div>\n",
              "\n",
              "\n",
              "<div id=\"df-fd781ed2-675d-4bb2-8eec-0297c3f79258\">\n",
              "  <button class=\"colab-df-quickchart\" onclick=\"quickchart('df-fd781ed2-675d-4bb2-8eec-0297c3f79258')\"\n",
              "            title=\"Suggest charts\"\n",
              "            style=\"display:none;\">\n",
              "\n",
              "<svg xmlns=\"http://www.w3.org/2000/svg\" height=\"24px\"viewBox=\"0 0 24 24\"\n",
              "     width=\"24px\">\n",
              "    <g>\n",
              "        <path d=\"M19 3H5c-1.1 0-2 .9-2 2v14c0 1.1.9 2 2 2h14c1.1 0 2-.9 2-2V5c0-1.1-.9-2-2-2zM9 17H7v-7h2v7zm4 0h-2V7h2v10zm4 0h-2v-4h2v4z\"/>\n",
              "    </g>\n",
              "</svg>\n",
              "  </button>\n",
              "\n",
              "<style>\n",
              "  .colab-df-quickchart {\n",
              "      --bg-color: #E8F0FE;\n",
              "      --fill-color: #1967D2;\n",
              "      --hover-bg-color: #E2EBFA;\n",
              "      --hover-fill-color: #174EA6;\n",
              "      --disabled-fill-color: #AAA;\n",
              "      --disabled-bg-color: #DDD;\n",
              "  }\n",
              "\n",
              "  [theme=dark] .colab-df-quickchart {\n",
              "      --bg-color: #3B4455;\n",
              "      --fill-color: #D2E3FC;\n",
              "      --hover-bg-color: #434B5C;\n",
              "      --hover-fill-color: #FFFFFF;\n",
              "      --disabled-bg-color: #3B4455;\n",
              "      --disabled-fill-color: #666;\n",
              "  }\n",
              "\n",
              "  .colab-df-quickchart {\n",
              "    background-color: var(--bg-color);\n",
              "    border: none;\n",
              "    border-radius: 50%;\n",
              "    cursor: pointer;\n",
              "    display: none;\n",
              "    fill: var(--fill-color);\n",
              "    height: 32px;\n",
              "    padding: 0;\n",
              "    width: 32px;\n",
              "  }\n",
              "\n",
              "  .colab-df-quickchart:hover {\n",
              "    background-color: var(--hover-bg-color);\n",
              "    box-shadow: 0 1px 2px rgba(60, 64, 67, 0.3), 0 1px 3px 1px rgba(60, 64, 67, 0.15);\n",
              "    fill: var(--button-hover-fill-color);\n",
              "  }\n",
              "\n",
              "  .colab-df-quickchart-complete:disabled,\n",
              "  .colab-df-quickchart-complete:disabled:hover {\n",
              "    background-color: var(--disabled-bg-color);\n",
              "    fill: var(--disabled-fill-color);\n",
              "    box-shadow: none;\n",
              "  }\n",
              "\n",
              "  .colab-df-spinner {\n",
              "    border: 2px solid var(--fill-color);\n",
              "    border-color: transparent;\n",
              "    border-bottom-color: var(--fill-color);\n",
              "    animation:\n",
              "      spin 1s steps(1) infinite;\n",
              "  }\n",
              "\n",
              "  @keyframes spin {\n",
              "    0% {\n",
              "      border-color: transparent;\n",
              "      border-bottom-color: var(--fill-color);\n",
              "      border-left-color: var(--fill-color);\n",
              "    }\n",
              "    20% {\n",
              "      border-color: transparent;\n",
              "      border-left-color: var(--fill-color);\n",
              "      border-top-color: var(--fill-color);\n",
              "    }\n",
              "    30% {\n",
              "      border-color: transparent;\n",
              "      border-left-color: var(--fill-color);\n",
              "      border-top-color: var(--fill-color);\n",
              "      border-right-color: var(--fill-color);\n",
              "    }\n",
              "    40% {\n",
              "      border-color: transparent;\n",
              "      border-right-color: var(--fill-color);\n",
              "      border-top-color: var(--fill-color);\n",
              "    }\n",
              "    60% {\n",
              "      border-color: transparent;\n",
              "      border-right-color: var(--fill-color);\n",
              "    }\n",
              "    80% {\n",
              "      border-color: transparent;\n",
              "      border-right-color: var(--fill-color);\n",
              "      border-bottom-color: var(--fill-color);\n",
              "    }\n",
              "    90% {\n",
              "      border-color: transparent;\n",
              "      border-bottom-color: var(--fill-color);\n",
              "    }\n",
              "  }\n",
              "</style>\n",
              "\n",
              "  <script>\n",
              "    async function quickchart(key) {\n",
              "      const quickchartButtonEl =\n",
              "        document.querySelector('#' + key + ' button');\n",
              "      quickchartButtonEl.disabled = true;  // To prevent multiple clicks.\n",
              "      quickchartButtonEl.classList.add('colab-df-spinner');\n",
              "      try {\n",
              "        const charts = await google.colab.kernel.invokeFunction(\n",
              "            'suggestCharts', [key], {});\n",
              "      } catch (error) {\n",
              "        console.error('Error during call to suggestCharts:', error);\n",
              "      }\n",
              "      quickchartButtonEl.classList.remove('colab-df-spinner');\n",
              "      quickchartButtonEl.classList.add('colab-df-quickchart-complete');\n",
              "    }\n",
              "    (() => {\n",
              "      let quickchartButtonEl =\n",
              "        document.querySelector('#df-fd781ed2-675d-4bb2-8eec-0297c3f79258 button');\n",
              "      quickchartButtonEl.style.display =\n",
              "        google.colab.kernel.accessAllowed ? 'block' : 'none';\n",
              "    })();\n",
              "  </script>\n",
              "</div>\n",
              "\n",
              "    </div>\n",
              "  </div>\n"
            ],
            "application/vnd.google.colaboratory.intrinsic+json": {
              "type": "dataframe",
              "summary": "{\n  \"name\": \"# in this data file -> each component of date was its own column, so it imported as an interger\",\n  \"rows\": 5,\n  \"fields\": [\n    {\n      \"column\": \"n\",\n      \"properties\": {\n        \"dtype\": \"number\",\n        \"std\": 1,\n        \"min\": 1,\n        \"max\": 5,\n        \"num_unique_values\": 5,\n        \"samples\": [\n          2,\n          5,\n          3\n        ],\n        \"semantic_type\": \"\",\n        \"description\": \"\"\n      }\n    },\n    {\n      \"column\": \" year\",\n      \"properties\": {\n        \"dtype\": \"number\",\n        \"std\": 0,\n        \"min\": 2024,\n        \"max\": 2024,\n        \"num_unique_values\": 1,\n        \"samples\": [\n          2024\n        ],\n        \"semantic_type\": \"\",\n        \"description\": \"\"\n      }\n    },\n    {\n      \"column\": \" month\",\n      \"properties\": {\n        \"dtype\": \"number\",\n        \"std\": 0,\n        \"min\": 3,\n        \"max\": 3,\n        \"num_unique_values\": 1,\n        \"samples\": [\n          3\n        ],\n        \"semantic_type\": \"\",\n        \"description\": \"\"\n      }\n    },\n    {\n      \"column\": \" day\",\n      \"properties\": {\n        \"dtype\": \"number\",\n        \"std\": 0,\n        \"min\": 13,\n        \"max\": 13,\n        \"num_unique_values\": 1,\n        \"samples\": [\n          13\n        ],\n        \"semantic_type\": \"\",\n        \"description\": \"\"\n      }\n    },\n    {\n      \"column\": \" hour\",\n      \"properties\": {\n        \"dtype\": \"number\",\n        \"std\": 0,\n        \"min\": 14,\n        \"max\": 14,\n        \"num_unique_values\": 1,\n        \"samples\": [\n          14\n        ],\n        \"semantic_type\": \"\",\n        \"description\": \"\"\n      }\n    },\n    {\n      \"column\": \" minute\",\n      \"properties\": {\n        \"dtype\": \"number\",\n        \"std\": 0,\n        \"min\": 2,\n        \"max\": 3,\n        \"num_unique_values\": 2,\n        \"samples\": [\n          3\n        ],\n        \"semantic_type\": \"\",\n        \"description\": \"\"\n      }\n    },\n    {\n      \"column\": \" second\",\n      \"properties\": {\n        \"dtype\": \"number\",\n        \"std\": 19,\n        \"min\": 1,\n        \"max\": 51,\n        \"num_unique_values\": 5,\n        \"samples\": [\n          1\n        ],\n        \"semantic_type\": \"\",\n        \"description\": \"\"\n      }\n    },\n    {\n      \"column\": \" voltage\",\n      \"properties\": {\n        \"dtype\": \"number\",\n        \"std\": 0.004472135954999484,\n        \"min\": 4.07,\n        \"max\": 4.08,\n        \"num_unique_values\": 2,\n        \"samples\": [\n          4.08\n        ],\n        \"semantic_type\": \"\",\n        \"description\": \"\"\n      }\n    },\n    {\n      \"column\": \" current\",\n      \"properties\": {\n        \"dtype\": \"number\",\n        \"std\": 15.927962832703999,\n        \"min\": -9.0,\n        \"max\": 30.0,\n        \"num_unique_values\": 5,\n        \"samples\": [\n          -3.0\n        ],\n        \"semantic_type\": \"\",\n        \"description\": \"\"\n      }\n    },\n    {\n      \"column\": \" power\",\n      \"properties\": {\n        \"dtype\": \"number\",\n        \"std\": 52.15361924162119,\n        \"min\": 0.0,\n        \"max\": 140.0,\n        \"num_unique_values\": 3,\n        \"samples\": [\n          140.0\n        ],\n        \"semantic_type\": \"\",\n        \"description\": \"\"\n      }\n    },\n    {\n      \"column\": \" temperature\",\n      \"properties\": {\n        \"dtype\": \"number\",\n        \"std\": 0.7425967950375226,\n        \"min\": 18.54,\n        \"max\": 20.41,\n        \"num_unique_values\": 5,\n        \"samples\": [\n          19.81\n        ],\n        \"semantic_type\": \"\",\n        \"description\": \"\"\n      }\n    },\n    {\n      \"column\": \" humidity\",\n      \"properties\": {\n        \"dtype\": \"number\",\n        \"std\": 1.47308519780765,\n        \"min\": 46.83,\n        \"max\": 50.24,\n        \"num_unique_values\": 5,\n        \"samples\": [\n          47.08\n        ],\n        \"semantic_type\": \"\",\n        \"description\": \"\"\n      }\n    }\n  ]\n}"
            }
          },
          "metadata": {},
          "execution_count": 38
        }
      ]
    },
    {
      "cell_type": "code",
      "source": [
        "temp.dtypes\n",
        "#temp.columns\n",
        "# use this to check the type of each column"
      ],
      "metadata": {
        "id": "QwmRI7tfQCVS",
        "outputId": "e6ad2026-e045-49f7-8c17-72d3ada313af",
        "colab": {
          "base_uri": "https://localhost:8080/",
          "height": 455
        }
      },
      "execution_count": 42,
      "outputs": [
        {
          "output_type": "execute_result",
          "data": {
            "text/plain": [
              "n                 int64\n",
              " year             int64\n",
              " month            int64\n",
              " day              int64\n",
              " hour             int64\n",
              " minute           int64\n",
              " second           int64\n",
              " voltage        float64\n",
              " current        float64\n",
              " power          float64\n",
              " temperature    float64\n",
              " humidity       float64\n",
              "dtype: object"
            ],
            "text/html": [
              "<div>\n",
              "<style scoped>\n",
              "    .dataframe tbody tr th:only-of-type {\n",
              "        vertical-align: middle;\n",
              "    }\n",
              "\n",
              "    .dataframe tbody tr th {\n",
              "        vertical-align: top;\n",
              "    }\n",
              "\n",
              "    .dataframe thead th {\n",
              "        text-align: right;\n",
              "    }\n",
              "</style>\n",
              "<table border=\"1\" class=\"dataframe\">\n",
              "  <thead>\n",
              "    <tr style=\"text-align: right;\">\n",
              "      <th></th>\n",
              "      <th>0</th>\n",
              "    </tr>\n",
              "  </thead>\n",
              "  <tbody>\n",
              "    <tr>\n",
              "      <th>n</th>\n",
              "      <td>int64</td>\n",
              "    </tr>\n",
              "    <tr>\n",
              "      <th>year</th>\n",
              "      <td>int64</td>\n",
              "    </tr>\n",
              "    <tr>\n",
              "      <th>month</th>\n",
              "      <td>int64</td>\n",
              "    </tr>\n",
              "    <tr>\n",
              "      <th>day</th>\n",
              "      <td>int64</td>\n",
              "    </tr>\n",
              "    <tr>\n",
              "      <th>hour</th>\n",
              "      <td>int64</td>\n",
              "    </tr>\n",
              "    <tr>\n",
              "      <th>minute</th>\n",
              "      <td>int64</td>\n",
              "    </tr>\n",
              "    <tr>\n",
              "      <th>second</th>\n",
              "      <td>int64</td>\n",
              "    </tr>\n",
              "    <tr>\n",
              "      <th>voltage</th>\n",
              "      <td>float64</td>\n",
              "    </tr>\n",
              "    <tr>\n",
              "      <th>current</th>\n",
              "      <td>float64</td>\n",
              "    </tr>\n",
              "    <tr>\n",
              "      <th>power</th>\n",
              "      <td>float64</td>\n",
              "    </tr>\n",
              "    <tr>\n",
              "      <th>temperature</th>\n",
              "      <td>float64</td>\n",
              "    </tr>\n",
              "    <tr>\n",
              "      <th>humidity</th>\n",
              "      <td>float64</td>\n",
              "    </tr>\n",
              "  </tbody>\n",
              "</table>\n",
              "</div><br><label><b>dtype:</b> object</label>"
            ]
          },
          "metadata": {},
          "execution_count": 42
        }
      ]
    },
    {
      "cell_type": "markdown",
      "source": [
        "Your data is now a \"data frame\".  But to make it easier to work with, let's:   \n",
        "1. Make a single data vector for each variable by extracting columns from the table"
      ],
      "metadata": {
        "id": "nQU32pPiArM5"
      }
    },
    {
      "cell_type": "code",
      "source": [
        "\n",
        "#temperature = temperature.astype(int)\n",
        "temperature = temp.iloc[:,11].tolist()\n",
        "print(temperature)"
      ],
      "metadata": {
        "id": "oLcwf0SABFci",
        "outputId": "74620117-6a4e-4c42-d900-b6239f32fba6",
        "colab": {
          "base_uri": "https://localhost:8080/"
        }
      },
      "execution_count": 53,
      "outputs": [
        {
          "output_type": "stream",
          "name": "stdout",
          "text": [
            "[46.83, 47.08, 48.48, 49.44, 50.24, 50.99, 51.74, 52.31, 52.86, 53.46, 54.16, 54.96, 55.94, 56.69, 56.94, 57.2, 57.5, 58.01, 58.01, 58.34]\n"
          ]
        }
      ]
    },
    {
      "cell_type": "markdown",
      "source": [
        "~~ 2. Delete the successfully extracted colums ~~\n"
      ],
      "metadata": {
        "id": "zNeFLrPPCMBm"
      }
    },
    {
      "cell_type": "code",
      "source": [
        "#del temp[\"temperature\"]\n",
        "#print(temp)\n",
        "dt = temp.iloc[:,1:7]\n",
        "print(dt)"
      ],
      "metadata": {
        "id": "h__gyqKYCaQl",
        "outputId": "4e2b0566-8162-4deb-c6cd-8a44a546bbaa",
        "colab": {
          "base_uri": "https://localhost:8080/"
        }
      },
      "execution_count": 57,
      "outputs": [
        {
          "output_type": "stream",
          "name": "stdout",
          "text": [
            "     year   month   day   hour   minute   second\n",
            "0    2024       3    13     14        2       51\n",
            "1    2024       3    13     14        3        1\n",
            "2    2024       3    13     14        3       11\n",
            "3    2024       3    13     14        3       21\n",
            "4    2024       3    13     14        3       31\n",
            "5    2024       3    13     14        3       41\n",
            "6    2024       3    13     14        3       52\n",
            "7    2024       3    13     14        4        2\n",
            "8    2024       3    13     14        4       12\n",
            "9    2024       3    13     14        4       22\n",
            "10   2024       3    13     14        4       32\n",
            "11   2024       3    13     14        4       42\n",
            "12   2024       3    13     14        4       52\n",
            "13   2024       3    13     14        5        2\n",
            "14   2024       3    13     14        5       12\n",
            "15   2024       3    13     14        5       22\n",
            "16   2024       3    13     14        5       32\n",
            "17   2024       3    13     14        5       43\n",
            "18   2024       3    13     14        5       53\n",
            "19   2024       3    13     14        6        3\n"
          ]
        }
      ]
    },
    {
      "cell_type": "markdown",
      "source": [
        "3. Parsing the date columns (date and time) into a datetime vector.  This method expects columns to have headings of minimally \"year\", \"month\", day\""
      ],
      "metadata": {
        "id": "rGYSb4EcCrnF"
      }
    },
    {
      "cell_type": "code",
      "source": [
        "datetime = pd.to_datetime(dt) #converting to a date time is key\n",
        "print(datetime.min()) # allows you to use special functions\n",
        "print(datetime.max())\n",
        "print(np.timedelta64(datetime.max()-datetime.min(),'m')) # declare the units"
      ],
      "metadata": {
        "id": "lU_8Q-kgST9b",
        "outputId": "0da3385f-513f-4cad-b347-39b509622a7b",
        "colab": {
          "base_uri": "https://localhost:8080/",
          "height": 333
        }
      },
      "execution_count": 64,
      "outputs": [
        {
          "output_type": "error",
          "ename": "ValueError",
          "evalue": "to assemble mappings requires at least that [year, month, day] be specified: [day,month,year] is missing",
          "traceback": [
            "\u001b[0;31m---------------------------------------------------------------------------\u001b[0m",
            "\u001b[0;31mValueError\u001b[0m                                Traceback (most recent call last)",
            "\u001b[0;32m<ipython-input-64-e6a085a88874>\u001b[0m in \u001b[0;36m<cell line: 1>\u001b[0;34m()\u001b[0m\n\u001b[0;32m----> 1\u001b[0;31m \u001b[0mdatetime\u001b[0m \u001b[0;34m=\u001b[0m \u001b[0mpd\u001b[0m\u001b[0;34m.\u001b[0m\u001b[0mto_datetime\u001b[0m\u001b[0;34m(\u001b[0m\u001b[0mdt\u001b[0m\u001b[0;34m)\u001b[0m \u001b[0;31m#converting to a date time is key\u001b[0m\u001b[0;34m\u001b[0m\u001b[0;34m\u001b[0m\u001b[0m\n\u001b[0m\u001b[1;32m      2\u001b[0m \u001b[0mprint\u001b[0m\u001b[0;34m(\u001b[0m\u001b[0mdatetime\u001b[0m\u001b[0;34m.\u001b[0m\u001b[0mmin\u001b[0m\u001b[0;34m(\u001b[0m\u001b[0;34m)\u001b[0m\u001b[0;34m)\u001b[0m \u001b[0;31m# allows you to use special functions\u001b[0m\u001b[0;34m\u001b[0m\u001b[0;34m\u001b[0m\u001b[0m\n\u001b[1;32m      3\u001b[0m \u001b[0mprint\u001b[0m\u001b[0;34m(\u001b[0m\u001b[0mdatetime\u001b[0m\u001b[0;34m.\u001b[0m\u001b[0mmax\u001b[0m\u001b[0;34m(\u001b[0m\u001b[0;34m)\u001b[0m\u001b[0;34m)\u001b[0m\u001b[0;34m\u001b[0m\u001b[0;34m\u001b[0m\u001b[0m\n\u001b[1;32m      4\u001b[0m \u001b[0mprint\u001b[0m\u001b[0;34m(\u001b[0m\u001b[0mnp\u001b[0m\u001b[0;34m.\u001b[0m\u001b[0mtimedelta64\u001b[0m\u001b[0;34m(\u001b[0m\u001b[0mdatetime\u001b[0m\u001b[0;34m.\u001b[0m\u001b[0mmax\u001b[0m\u001b[0;34m(\u001b[0m\u001b[0;34m)\u001b[0m\u001b[0;34m-\u001b[0m\u001b[0mdatetime\u001b[0m\u001b[0;34m.\u001b[0m\u001b[0mmin\u001b[0m\u001b[0;34m(\u001b[0m\u001b[0;34m)\u001b[0m\u001b[0;34m,\u001b[0m\u001b[0;34m'm'\u001b[0m\u001b[0;34m)\u001b[0m\u001b[0;34m)\u001b[0m \u001b[0;31m# declare the units\u001b[0m\u001b[0;34m\u001b[0m\u001b[0;34m\u001b[0m\u001b[0m\n",
            "\u001b[0;32m/usr/local/lib/python3.10/dist-packages/pandas/core/tools/datetimes.py\u001b[0m in \u001b[0;36mto_datetime\u001b[0;34m(arg, errors, dayfirst, yearfirst, utc, format, exact, unit, infer_datetime_format, origin, cache)\u001b[0m\n\u001b[1;32m   1113\u001b[0m             \u001b[0mresult\u001b[0m \u001b[0;34m=\u001b[0m \u001b[0marg\u001b[0m\u001b[0;34m.\u001b[0m\u001b[0m_constructor\u001b[0m\u001b[0;34m(\u001b[0m\u001b[0mvalues\u001b[0m\u001b[0;34m,\u001b[0m \u001b[0mindex\u001b[0m\u001b[0;34m=\u001b[0m\u001b[0marg\u001b[0m\u001b[0;34m.\u001b[0m\u001b[0mindex\u001b[0m\u001b[0;34m,\u001b[0m \u001b[0mname\u001b[0m\u001b[0;34m=\u001b[0m\u001b[0marg\u001b[0m\u001b[0;34m.\u001b[0m\u001b[0mname\u001b[0m\u001b[0;34m)\u001b[0m\u001b[0;34m\u001b[0m\u001b[0;34m\u001b[0m\u001b[0m\n\u001b[1;32m   1114\u001b[0m     \u001b[0;32melif\u001b[0m \u001b[0misinstance\u001b[0m\u001b[0;34m(\u001b[0m\u001b[0marg\u001b[0m\u001b[0;34m,\u001b[0m \u001b[0;34m(\u001b[0m\u001b[0mABCDataFrame\u001b[0m\u001b[0;34m,\u001b[0m \u001b[0mabc\u001b[0m\u001b[0;34m.\u001b[0m\u001b[0mMutableMapping\u001b[0m\u001b[0;34m)\u001b[0m\u001b[0;34m)\u001b[0m\u001b[0;34m:\u001b[0m\u001b[0;34m\u001b[0m\u001b[0;34m\u001b[0m\u001b[0m\n\u001b[0;32m-> 1115\u001b[0;31m         \u001b[0mresult\u001b[0m \u001b[0;34m=\u001b[0m \u001b[0m_assemble_from_unit_mappings\u001b[0m\u001b[0;34m(\u001b[0m\u001b[0marg\u001b[0m\u001b[0;34m,\u001b[0m \u001b[0merrors\u001b[0m\u001b[0;34m,\u001b[0m \u001b[0mutc\u001b[0m\u001b[0;34m)\u001b[0m\u001b[0;34m\u001b[0m\u001b[0;34m\u001b[0m\u001b[0m\n\u001b[0m\u001b[1;32m   1116\u001b[0m     \u001b[0;32melif\u001b[0m \u001b[0misinstance\u001b[0m\u001b[0;34m(\u001b[0m\u001b[0marg\u001b[0m\u001b[0;34m,\u001b[0m \u001b[0mIndex\u001b[0m\u001b[0;34m)\u001b[0m\u001b[0;34m:\u001b[0m\u001b[0;34m\u001b[0m\u001b[0;34m\u001b[0m\u001b[0m\n\u001b[1;32m   1117\u001b[0m         \u001b[0mcache_array\u001b[0m \u001b[0;34m=\u001b[0m \u001b[0m_maybe_cache\u001b[0m\u001b[0;34m(\u001b[0m\u001b[0marg\u001b[0m\u001b[0;34m,\u001b[0m \u001b[0mformat\u001b[0m\u001b[0;34m,\u001b[0m \u001b[0mcache\u001b[0m\u001b[0;34m,\u001b[0m \u001b[0mconvert_listlike\u001b[0m\u001b[0;34m)\u001b[0m\u001b[0;34m\u001b[0m\u001b[0;34m\u001b[0m\u001b[0m\n",
            "\u001b[0;32m/usr/local/lib/python3.10/dist-packages/pandas/core/tools/datetimes.py\u001b[0m in \u001b[0;36m_assemble_from_unit_mappings\u001b[0;34m(arg, errors, utc)\u001b[0m\n\u001b[1;32m   1229\u001b[0m     \u001b[0;32mif\u001b[0m \u001b[0mlen\u001b[0m\u001b[0;34m(\u001b[0m\u001b[0mreq\u001b[0m\u001b[0;34m)\u001b[0m\u001b[0;34m:\u001b[0m\u001b[0;34m\u001b[0m\u001b[0;34m\u001b[0m\u001b[0m\n\u001b[1;32m   1230\u001b[0m         \u001b[0m_required\u001b[0m \u001b[0;34m=\u001b[0m \u001b[0;34m\",\"\u001b[0m\u001b[0;34m.\u001b[0m\u001b[0mjoin\u001b[0m\u001b[0;34m(\u001b[0m\u001b[0mreq\u001b[0m\u001b[0;34m)\u001b[0m\u001b[0;34m\u001b[0m\u001b[0;34m\u001b[0m\u001b[0m\n\u001b[0;32m-> 1231\u001b[0;31m         raise ValueError(\n\u001b[0m\u001b[1;32m   1232\u001b[0m             \u001b[0;34m\"to assemble mappings requires at least that \"\u001b[0m\u001b[0;34m\u001b[0m\u001b[0;34m\u001b[0m\u001b[0m\n\u001b[1;32m   1233\u001b[0m             \u001b[0;34mf\"[year, month, day] be specified: [{_required}] is missing\"\u001b[0m\u001b[0;34m\u001b[0m\u001b[0;34m\u001b[0m\u001b[0m\n",
            "\u001b[0;31mValueError\u001b[0m: to assemble mappings requires at least that [year, month, day] be specified: [day,month,year] is missing"
          ]
        }
      ]
    },
    {
      "cell_type": "markdown",
      "source": [
        "Now we can transform this data into a time series and two value series."
      ],
      "metadata": {
        "id": "sQQ601XwMZyk"
      }
    },
    {
      "cell_type": "markdown",
      "source": [
        "Here's an easy one -> But I still had to troubleshoot the header:"
      ],
      "metadata": {
        "id": "qmATpbvkGgcm"
      }
    },
    {
      "cell_type": "code",
      "source": [
        "temps = pd.read_csv('https://raw.githubusercontent.com/nattycep/FIL_Geosensing/main/Datalog_geosensorik.csv')\n",
        "print(temps.head())\n",
        "temps_dt = temps.loc[:, [\"Year\",\t\"Month\",\t\"Day\",\t\"Hour\",\t\"Minute\",\t\"Seconds\"]]\n",
        "T_datetime = pd.to_datetime(temps_dt)\n",
        "T_ambient =temps[\"Ambient_Temperature\"]\n",
        "T_object =temps[\"Object_Temperature\"]\n",
        "\n",
        "del(temps)\n",
        "del(temps_dt)"
      ],
      "metadata": {
        "id": "x-YrHvcKK-oe"
      },
      "execution_count": null,
      "outputs": []
    },
    {
      "cell_type": "markdown",
      "source": [
        "Now let's test your test data\n",
        "\n",
        "1.  I manually uploaded the files, then right clicked to copy path\n"
      ],
      "metadata": {
        "id": "gu0PMidiSzQN"
      }
    },
    {
      "cell_type": "code",
      "source": [
        "Klima1 = pd.read_csv('/content/Datalog_1 2-1.csv')\n",
        "print(Klima1.head())\n",
        "\n",
        "Klima2 = pd.read_csv('/content/Datalog_1 2.csv')\n",
        "print(Klima2.head())\n",
        "\n",
        "Klima3 = pd.read_csv('/content/Datalog_1.csv')\n",
        "print(Klima3.head())\n",
        "\n",
        "Bridge = pd.read_csv('/content/Results_OverNightTest.csv')\n",
        "#On first try, I got this error: 'utf-8' codec can't decode byte 0xb0 in position 19: invalid start byte\n",
        "# if I look, there is a funny character: Date,CO2(ppm),Temp(∞C),CarCount\n",
        "# I cheated and just changed it.\n",
        "print(Bridge.head())\n",
        "\n",
        "Water = pd.read_csv('/content/water.csv', delimiter=\";\") # on my first try, I didn't notice the deliminator was not \",\"\n",
        "print(Water.head())\n"
      ],
      "metadata": {
        "id": "9G5pvDAbTDhM"
      },
      "execution_count": null,
      "outputs": []
    },
    {
      "cell_type": "markdown",
      "source": [
        "Water:\n",
        "1. Make the date into a date time\n",
        "\n",
        "\n"
      ],
      "metadata": {
        "id": "zBvnN4TxU5rj"
      }
    },
    {
      "cell_type": "code",
      "source": [
        "#Water.columns= Water.columns.str.lower()\n",
        "print(Water.columns) # the spaces at the beginning of the header names are causeing problems. Later the periods might also\n",
        "headers = Water.columns.str.replace(' ','')\n",
        "Water.columns = headers\n",
        "headers = Water.columns.str.replace('.','')\n",
        "Water.columns = headers\n",
        "print(Water.columns)\n",
        "\n",
        "Water['datetime']=pd.to_datetime(Water.iloc[:,[0,1,2,3,4,5]])\n",
        "\n",
        "print(Water.head())\n",
        "print(Water.dtypes)\n",
        "\n",
        "\n"
      ],
      "metadata": {
        "id": "CCJB34SlVlcP"
      },
      "execution_count": null,
      "outputs": []
    },
    {
      "cell_type": "markdown",
      "source": [
        "All:\n",
        "1. Check that the date is correct\n",
        "- see that bridge starts 1/1/2021\n"
      ],
      "metadata": {
        "id": "b3tR4dL8j6vA"
      }
    },
    {
      "cell_type": "code",
      "source": [
        "print(Bridge.dtypes)\n",
        "Bridge['datetime']=pd.to_datetime(Bridge.Date)\n",
        "print(Bridge.head())"
      ],
      "metadata": {
        "id": "aiTOe2gWjy19"
      },
      "execution_count": null,
      "outputs": []
    },
    {
      "cell_type": "markdown",
      "source": [
        "- no date for Klima data\n",
        "\n",
        "\n",
        "Klima:\n",
        "\n",
        "1.   Merge the 3 data sources according to time\n"
      ],
      "metadata": {
        "id": "nDiB9TcAj9Jc"
      }
    },
    {
      "cell_type": "code",
      "source": [
        "#print(Klima1.dtypes)\n",
        "Klima1['datetime']=pd.to_datetime(Klima1.Time) # assumed that it was today\n",
        "#print(Klima1.dtypes)\n",
        "#print(Klima1.head())\n",
        "Klima2['datetime']=pd.to_datetime(Klima2.Time) # assumed that it was today\n",
        "Klima3['datetime']=pd.to_datetime(Klima3.Time) # assumed that it was today\n",
        "\n",
        "# to merge,first need unique column names\n",
        "\n",
        "#print(Klima1.columns)\n",
        "#print(Klima2.columns)\n",
        "#print(Klima3.columns)\n",
        "\n",
        "\n",
        "Klima1.rename(columns={'Time1':'Time'}, inplace=True)\n",
        "Klima1.rename(columns={'Temp1':'Temperature in C'}, inplace=True)\n",
        "Klima1.rename(columns={'Humid1':'Humidity in %'}, inplace=True)\n",
        "Klima1.rename(columns={'Light1':'Light'}, inplace=True)\n",
        "Klima1.rename(columns={'datetime1':'datetime'}, inplace=True)\n",
        "\n",
        "\n",
        "Klima2.rename(columns={'Time2':'Time'}, inplace=True)\n",
        "Klima2.rename(columns={'Temp2':'Temperature in C'}, inplace=True)\n",
        "Klima2.rename(columns={'Humid2':'Humidity in %'}, inplace=True)\n",
        "Klima2.rename(columns={'Light2':'Light'}, inplace=True)\n",
        "Klima2.rename(columns={'datetime2':'datetime'}, inplace=True)\n",
        "\n",
        "Klima3.rename(columns={'Time3':'Time'}, inplace=True)\n",
        "Klima3.rename(columns={'Temp3':'Temperature in C'}, inplace=True)\n",
        "Klima3.rename(columns={'Humid3':'Humidity in %'}, inplace=True)\n",
        "Klima3.rename(columns={'Light3':'Light'}, inplace=True)\n",
        "Klima3.rename(columns={'datetime3':'datetime'}, inplace=True)\n",
        "\n",
        "Klima12 = pd.merge(Klima1,Klima2, on='datetime', how='outer').sort_values(by='datetime').fillna(method='ffill')\n",
        "Klima = pd.merge(Klima12,Klima3, on='datetime', how='outer').sort_values(by='datetime').fillna(method='ffill')\n",
        "\n",
        "print(Klima.head())\n",
        "\n",
        "del Klima1\n",
        "del Klima2\n",
        "del Klima3\n",
        "del Klima12"
      ],
      "metadata": {
        "id": "CFe0-L8oj_BX"
      },
      "execution_count": null,
      "outputs": []
    },
    {
      "cell_type": "markdown",
      "source": [
        "\n",
        "For our example plots, let's work with some meteo suisse data from this weekend.  \n",
        "\n",
        "*   ten-minute resolution\n",
        "*   two stations:\n",
        "    *     NABBER    Bern / Bollwerk\n",
        "    *     BER       Bern / Zollikofen\n",
        "*   two variables\n",
        "    *     tre200s0,  ∞C Air temperature 2 m above ground; current value\n",
        "    *     rre150z0, mm  Precipitation; ten minutes total\n",
        "\n"
      ],
      "metadata": {
        "id": "942q2CKgVlAO"
      }
    },
    {
      "cell_type": "code",
      "source": [
        "path = \"https://raw.githubusercontent.com/nattycep/FIL_Geosensing/main/order_105725_data.txt\"\n",
        "ms = pd.read_csv(path, delimiter= \";\")\n",
        "ms.time= pd.to_datetime(ms['time'].astype(str),errors='raise',format='%Y%m%d%H%M')\n",
        "ms.stn = ms['stn'].astype('category')\n",
        "print(ms.head())\n",
        "print(ms.dtypes)\n",
        "\n",
        "\n"
      ],
      "metadata": {
        "id": "xi1ZqyTaamN8"
      },
      "execution_count": null,
      "outputs": []
    },
    {
      "cell_type": "markdown",
      "source": [
        "Maybe we want to pivot this, to make a single row for each time\n"
      ],
      "metadata": {
        "id": "Yy326tyII7HH"
      }
    },
    {
      "cell_type": "code",
      "source": [
        "temperature = ms.pivot(index='time', columns='stn', values='tre200s0')\n",
        "rain = ms.pivot(index='time', columns='stn', values='rre150z0')\n",
        "\n",
        "print(temperature.head())\n",
        "print(rain.head())\n"
      ],
      "metadata": {
        "id": "3lB7sLuBJAku"
      },
      "execution_count": null,
      "outputs": []
    },
    {
      "cell_type": "markdown",
      "source": [
        "# 3.   Make Figures: Preliminary, Refine, Export\n",
        "\n",
        "Start with looking at each variable independently.  For example, a histogram of one variable and a line of another.\n",
        "\n",
        "Remember to always label your axes.\n",
        "\n"
      ],
      "metadata": {
        "id": "_HmhpySYFE9b"
      }
    },
    {
      "cell_type": "code",
      "source": [
        "plt.plot(temperature.BER)\n",
        "plt.ylabel(\"$ Temperature [^OC]$\")\n",
        "plt.xlabel(\"datetime\")"
      ],
      "metadata": {
        "id": "Z7rI-LwuFMrW"
      },
      "execution_count": null,
      "outputs": []
    },
    {
      "cell_type": "markdown",
      "source": [
        "A histogram is the most useful plot for seeing the first distribution of the data. Here are two different ways to visualize the histogram, for our two different time series.\n",
        "\n",
        "Note: to get superscript in matplotlib axes labels, use dollar signs that signal equation mode around a carrot (^). Subscripts would be around an underscore (_), and greek similarly need dollar signs but then a back slash followed by the name of the letter (capitalized for the capital version).  i.e.:\n",
        "```\n",
        "plt.ylabel(\"$ \\Delta _{temperature} [^OC]$\")\n",
        "```\n",
        "\n",
        "\n"
      ],
      "metadata": {
        "id": "y2SfmZ0YFjPB"
      }
    },
    {
      "cell_type": "code",
      "source": [
        "plt.hist(temperature.BER)\n",
        "plt.xlabel(\"frequency\")\n",
        "plt.ylabel(\" temperature [$^OC$]\")"
      ],
      "metadata": {
        "id": "PmAQ95OuFi2i"
      },
      "execution_count": null,
      "outputs": []
    },
    {
      "cell_type": "markdown",
      "source": [
        "Or basically the same, just called a little differently:"
      ],
      "metadata": {
        "id": "4XVQWf2sLiEe"
      }
    },
    {
      "cell_type": "code",
      "source": [
        "fig, ax = plt.subplots()\n",
        "ax.hist(temperature.BER)\n",
        "plt.ylabel(\"frequency\")\n",
        "plt.xlabel(\"$temperature ^OC$\")\n"
      ],
      "metadata": {
        "id": "4PIvXfNKFinL"
      },
      "execution_count": null,
      "outputs": []
    },
    {
      "cell_type": "markdown",
      "source": [
        "Or if there are two variables, we can see how their distributions compare."
      ],
      "metadata": {
        "id": "v8bhDP1bDemF"
      }
    },
    {
      "cell_type": "code",
      "source": [
        "fig, ax = plt.subplots()\n",
        "ax.hist(temperature.BER)\n",
        "ax.hist(temperature.NABBER)\n",
        "plt.ylabel(\"frequency\")\n",
        "plt.xlabel(\"$temperature ^OC$\")\n",
        "ax.legend(labels = {'Zollikofen', 'Bollwerk'})\n",
        "\n",
        "#NABBER Bern / Bollwerk\n",
        "#BER Bern / Zollikofen\n",
        "\n",
        "#plt.hist(norm.rvs(0,1,5000))  # depending on your bins, you see differnet structure. how to decide on binning?\n",
        "# doesn't make sense to have bins that are smaller than the accuracy of your data, i.e. 1 cm.\n",
        "# let python decide\n",
        "# plot with correct uncertainty bars (the best)\n",
        "#plt.hist(norm.rvs(0,1,5000), bins=15)  # depending on your bins, you see differnet structure. how to decide on binning?"
      ],
      "metadata": {
        "id": "d5HR6mqtDlIT"
      },
      "execution_count": null,
      "outputs": []
    },
    {
      "cell_type": "markdown",
      "source": [
        "Maybe we want to make them transparent"
      ],
      "metadata": {
        "id": "Ls4ZhSEsdWMf"
      }
    },
    {
      "cell_type": "code",
      "source": [
        "fig, ax = plt.subplots()\n",
        "n, bins, patches = ax.hist(temperature.BER, alpha=.5, edgecolor='white') # so that we can match the bins\n",
        "print(bins)\n",
        "ax.hist(temperature.NABBER, alpha=.5, bins = bins, edgecolor='white') # here we use the same bins\n",
        "plt.ylabel(\"frequency\")\n",
        "plt.xlabel(\"$temperature ^OC$\")\n",
        "ax.legend(labels = {'Zollikofen', 'Bollwerk'})\n",
        "\n",
        "print(temperature.BER.mean())\n",
        "print(temperature.NABBER.mean())\n"
      ],
      "metadata": {
        "id": "rSWBAELfGIwW"
      },
      "execution_count": null,
      "outputs": []
    },
    {
      "cell_type": "markdown",
      "source": [
        "3.1 Time Series"
      ],
      "metadata": {
        "id": "q4uON3btHYgz"
      }
    },
    {
      "cell_type": "code",
      "source": [
        "fig, ax = plt.subplots()\n",
        "ax.plot(temperature.BER)\n",
        "ax.plot(temperature.NABBER)\n",
        "ax.legend(labels = {'Zollikofen', 'Bollwerk'})\n",
        "fig.show()"
      ],
      "metadata": {
        "id": "mjJpLAu7HXih"
      },
      "execution_count": null,
      "outputs": []
    },
    {
      "cell_type": "markdown",
      "source": [
        "Change the marker"
      ],
      "metadata": {
        "id": "nvEVxeX5HkcU"
      }
    },
    {
      "cell_type": "code",
      "source": [
        "fig, ax = plt.subplots()\n",
        "ax.plot(temperature.BER, 'o')\n",
        "fig.show()\n",
        "\n",
        "\n"
      ],
      "metadata": {
        "id": "ACEPEYvCHm0c"
      },
      "execution_count": null,
      "outputs": []
    },
    {
      "cell_type": "markdown",
      "source": [
        "Perhaps we want to add a bined function to this figure and make the original data transparent. For this, use grouupby. Another option would be to use scipy binned statistic"
      ],
      "metadata": {
        "id": "DjFOX2yVDXuY"
      }
    },
    {
      "cell_type": "code",
      "source": [
        "# note in this concatted data, the index is the time, but in your data it might be a different column, or another variable.\n",
        "\n",
        "temperature.index.min()\n",
        "temperature.index.max()\n",
        "\n",
        "temp6=temperature.groupby(temperature.index.floor('6H')).mean() #anotheroption would 30min or 1D (day)\n",
        "temp6s=temperature.groupby(temperature.index.floor('6H')).std()"
      ],
      "metadata": {
        "id": "tPg-yJ28OFRv"
      },
      "execution_count": null,
      "outputs": []
    },
    {
      "cell_type": "markdown",
      "source": [
        "Let's plot these resampled values and add an error bar."
      ],
      "metadata": {
        "id": "7k1sSNU0ZS11"
      }
    },
    {
      "cell_type": "code",
      "source": [
        "\n",
        "fig, ax = plt.subplots()\n",
        "ax.plot(temperature.BER, 'ro', alpha=0.1)\n",
        "ax.plot(temp6.BER, 'bo-');\n",
        "ax.errorbar(x=temp6.index, y=temp6.BER, yerr=temp6s.BER/2, color='b', capsize=3);  # add error bars\n",
        "\n",
        "fig.show()\n",
        "\n",
        "\n",
        "# note at the 6 hour time step, this isn't so nice.  We really should shift the dates by 3 hours so that the mean points are in the middle."
      ],
      "metadata": {
        "id": "mL2k32AnKXVc"
      },
      "execution_count": null,
      "outputs": []
    },
    {
      "cell_type": "markdown",
      "source": [
        "Perhaps instead of a moving average, we want to fit a function to the data.\n",
        "\n",
        "First a linear function.\n",
        "\n",
        "Let's start by changing our x-variable to a deltatime"
      ],
      "metadata": {
        "id": "weh-8JYwf9Y3"
      }
    },
    {
      "cell_type": "code",
      "source": [
        "dt = temperature.index -temperature.index.min()\n",
        "dtemp = temperature\n",
        "dtemp.index = dt\n",
        "print(dtemp.head())"
      ],
      "metadata": {
        "id": "U-BvOh7VaG0E"
      },
      "execution_count": null,
      "outputs": []
    },
    {
      "cell_type": "code",
      "source": [
        "#linear fit\n",
        "\n",
        "\n",
        "fig, ax = plt.subplots()\n",
        "plt.ylabel(\"$Bollwerk_{temperature} [^OC]$\")\n",
        "plt.xlabel(\"$Zollikofen_{temperature} [^OC]$\")\n",
        "p= sns.regplot(data=dtemp, x=dtemp.NABBER.values, y=dtemp.BER.values);\n",
        "\n",
        "fig.show()"
      ],
      "metadata": {
        "id": "XzYWssQHuZgw"
      },
      "execution_count": null,
      "outputs": []
    },
    {
      "cell_type": "markdown",
      "source": [
        "Note that regplot makes a it a bit tricky to get the equations, but you can figure them out"
      ],
      "metadata": {
        "id": "T0X6_EQeeUZj"
      }
    },
    {
      "cell_type": "code",
      "source": [
        "slope, intercept, r_value, p_value, std_err = stats.linregress(x=p.get_lines()[0].get_xdata(),y=p.get_lines()[0].get_ydata())\n",
        "\n",
        "print(slope)\n",
        "print(intercept)\n",
        "print(r_value)\n",
        "print(p_value)\n",
        "print(std_err)\n"
      ],
      "metadata": {
        "id": "fLejfRVxeiAp"
      },
      "execution_count": null,
      "outputs": []
    },
    {
      "cell_type": "markdown",
      "source": [
        "We could make this more interesting by seeing if the relationship varies according to a categorical variable, say if it is raining in either place."
      ],
      "metadata": {
        "id": "DtJ0DFnWdoYm"
      }
    },
    {
      "cell_type": "code",
      "source": [
        "israining = (rain.BER+rain.NABBER)>0\n",
        "\n",
        "fig, ax = plt.subplots()\n",
        "plt.ylabel(\"$Bollwerk_{temperature} [^OC]$\")\n",
        "plt.xlabel(\"$Zollikofen_{temperature} [^OC]$\")\n",
        "p= sns.scatterplot(data=dtemp, x=dtemp.NABBER.values, y=dtemp.BER.values, hue =israining);\n",
        "\n",
        "fig.show()"
      ],
      "metadata": {
        "id": "bIRJU3DZd1Vi"
      },
      "execution_count": null,
      "outputs": []
    },
    {
      "cell_type": "markdown",
      "source": [
        "Boxplots\n"
      ],
      "metadata": {
        "id": "uBKYiKlUWuhr"
      }
    },
    {
      "cell_type": "code",
      "source": [
        "\n",
        "fig, ax = plt.subplots()\n",
        "ax.boxplot([dtemp.BER, dtemp.NABBER])\n",
        "plt.ylabel(\"temperature ^OC\")\n",
        "locs, labels = plt.xticks()  # Get the current locations and labels.\n",
        "print(locs)\n",
        "plt.xticks(locs, ['Zolli', 'Bollw'],rotation=45)  # Set text labels and properties.\n",
        "fig.show()\n"
      ],
      "metadata": {
        "id": "47wc06X1ukQz"
      },
      "execution_count": null,
      "outputs": []
    },
    {
      "cell_type": "markdown",
      "source": [
        "# Save your figure"
      ],
      "metadata": {
        "id": "5iCwU8rpjClG"
      }
    },
    {
      "cell_type": "code",
      "metadata": {
        "id": "h20muCtpH1b5"
      },
      "source": [
        "fig.savefig(\"mydatavis.png\", dpi=300)\n",
        "\n",
        "fig.savefig(\"mydavavis.pdf\")"
      ],
      "execution_count": null,
      "outputs": []
    },
    {
      "cell_type": "markdown",
      "metadata": {
        "id": "3A8he82uJo4d"
      },
      "source": [
        "\n",
        "# 4.  Perform Statistical Tests\n"
      ]
    },
    {
      "cell_type": "code",
      "metadata": {
        "id": "de2rVKG7JrXX"
      },
      "source": [],
      "execution_count": null,
      "outputs": []
    },
    {
      "cell_type": "markdown",
      "source": [
        "5. Save your data"
      ],
      "metadata": {
        "id": "AObYRB1xZPv8"
      }
    },
    {
      "cell_type": "code",
      "source": [
        "temperature.to_csv('export_test.csv', index=False, sep=';')"
      ],
      "metadata": {
        "id": "y1xP5gcyZTAn"
      },
      "execution_count": null,
      "outputs": []
    }
  ]
}